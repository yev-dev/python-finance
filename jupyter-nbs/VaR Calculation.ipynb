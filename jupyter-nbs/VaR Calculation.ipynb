{
 "cells": [
  {
   "cell_type": "code",
   "execution_count": 2,
   "metadata": {},
   "outputs": [],
   "source": [
    "import datetime as dt\n",
    "import numpy as np\n",
    "from pandas_datareader import data as rda\n",
    "from scipy.stats import norm"
   ]
  },
  {
   "cell_type": "markdown",
   "metadata": {},
   "source": [
    "The calculate_daily_VaR function performs the daily VaR calculation, assuming 252 trading days per year. \n",
    "The mean and sigma variables are annualized values of the average and standard deviation of daily stock returns respectively. \n",
    "The norm.ppf method of the scipy.stats module performs the inverse of the normal probability with a risk level of 1-prob, where prob is the confidence value of interest."
   ]
  },
  {
   "cell_type": "code",
   "execution_count": 3,
   "metadata": {
    "collapsed": true
   },
   "outputs": [],
   "source": [
    "def calculate_daily_VaR(P, prob, mean, sigma, days_per_year=252.):\n",
    "    min_ret = norm.ppf(1-prob, mean/days_per_year, sigma/np.sqrt(days_per_year))\n",
    "    return P - P*(min_ret+1)"
   ]
  },
  {
   "cell_type": "code",
   "execution_count": 4,
   "metadata": {
    "collapsed": true
   },
   "outputs": [],
   "source": [
    "start = dt.datetime(2017, 12, 1)\n",
    "end = dt.datetime(2018, 12, 1)\n",
    "    \n",
    "prices = rda.DataReader(\"AAPL\", \"yahoo\", start, end)\n",
    "returns = prices[\"Adj Close\"].pct_change().dropna()\n",
    "\n",
    "portvolio_value = 100000000.00\n",
    "confidence = 0.95\n",
    "mu = np.mean(returns)\n",
    "sigma = np.std(returns)"
   ]
  },
  {
   "cell_type": "code",
   "execution_count": 7,
   "metadata": {},
   "outputs": [],
   "source": [
    "VaR = calculate_daily_VaR(portvolio_value, confidence,mu, sigma) "
   ]
  },
  {
   "cell_type": "code",
   "execution_count": 14,
   "metadata": {},
   "outputs": [
    {
     "name": "stdout",
     "output_type": "stream",
     "text": [
      "Value-at-Risk: 142681.9\n"
     ]
    }
   ],
   "source": [
    "print(\"Value-at-Risk:\", round(VaR, 2))"
   ]
  }
 ],
 "metadata": {
  "kernelspec": {
   "display_name": "Python 3",
   "language": "python",
   "name": "python3"
  },
  "language_info": {
   "codemirror_mode": {
    "name": "ipython",
    "version": 3
   },
   "file_extension": ".py",
   "mimetype": "text/x-python",
   "name": "python",
   "nbconvert_exporter": "python",
   "pygments_lexer": "ipython3",
   "version": "3.6.1"
  }
 },
 "nbformat": 4,
 "nbformat_minor": 2
}
